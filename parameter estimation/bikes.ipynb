{
 "cells": [
  {
   "cell_type": "markdown",
   "id": "5a8e490c-3582-4cd0-aedd-5c89b5b69b4b",
   "metadata": {},
   "source": [
    "## Bikes"
   ]
  },
  {
   "cell_type": "code",
   "execution_count": 82,
   "id": "a3c7566d-e77f-4afe-bd52-b80ab53a85bf",
   "metadata": {},
   "outputs": [],
   "source": [
    "import pandas as pd\n",
    "import seaborn as sns\n",
    "import matplotlib.pyplot as plt\n",
    "import warnings"
   ]
  },
  {
   "cell_type": "code",
   "execution_count": 75,
   "id": "981d4911-7e49-4451-828f-b4be0c4e544d",
   "metadata": {},
   "outputs": [],
   "source": [
    "veligo = pd.read_csv('./data/bikes/souscripteurs-veligo-collectivites.csv', sep=';')"
   ]
  },
  {
   "cell_type": "code",
   "execution_count": 76,
   "id": "af75a4c5-053b-4946-925b-c87d70c5aa15",
   "metadata": {},
   "outputs": [
    {
     "name": "stdout",
     "output_type": "stream",
     "text": [
      "Dropped 725 of 872 rows, 147 remaining\n"
     ]
    }
   ],
   "source": [
    "# Determine what to keep\n",
    "keep_deps = ['75', '92', '93', '94'] # departments to keep, first is paris, latter three are first ring\n",
    "all_geos = set(list(veligo.code_postal.unique()))\n",
    "keep = set(geo for geo in all_geos if str(geo)[:2] in keep_deps) # first two characters in geocode correspond to department\n",
    "i_keep = veligo.loc[veligo.code_postal.isin(keep)].index\n",
    "\n",
    "# Drop the rest\n",
    "i_drop = veligo.index.difference(i_keep)\n",
    "before = len(veligo)\n",
    "veligo.drop(index=i_drop, inplace=True)\n",
    "print(f'Dropped {before-len(veligo)} of {before} rows, {len(veligo)} remaining')"
   ]
  },
  {
   "cell_type": "code",
   "execution_count": 77,
   "id": "d61ecf0a-fe03-4cc3-aa13-84968a4e6ba5",
   "metadata": {},
   "outputs": [],
   "source": [
    "# Translate department numbers to label\n",
    "label_dict = {'75': 'City',\n",
    "            '92': 'Ring',\n",
    "            '93': 'Ring',\n",
    "            '94': 'Ring'}\n",
    "\n",
    "# Apply labels, 'External' if one side of the commute is not in either City or Ring\n",
    "for i, geo in veligo.code_postal.items():\n",
    "    # Label City and Ring\n",
    "    label_col = 'zone'\n",
    "    dep = str(geo)[:2]\n",
    "    if dep in keep_deps:\n",
    "        veligo.at[i, label_col] = label_dict[dep]"
   ]
  },
  {
   "cell_type": "code",
   "execution_count": 86,
   "id": "c1308d00-3ba2-43f5-a971-a5ca6347270f",
   "metadata": {},
   "outputs": [
    {
     "data": {
      "text/plain": [
       "zone\n",
       "City    48972\n",
       "Ring    43344\n",
       "Name: total_subs, dtype: int64"
      ]
     },
     "execution_count": 86,
     "metadata": {},
     "output_type": "execute_result"
    }
   ],
   "source": [
    "warnings.simplefilter(action='ignore', category=FutureWarning)\n",
    "veligo.nombre_de_souscriptions_jo.replace('<5', '0',inplace=True)\n",
    "veligo.nombre_de_souscriptions_cargo.replace('<5', '0',inplace=True)\n",
    "veligo['total_subs'] = veligo[['nombre_de_souscriptions_vae_classique', 'nombre_de_souscriptions_cargo',\n",
    "                               'nombre_de_souscriptions_jo']].astype(int).sum(axis=1)\n",
    "veligo.groupby(by='zone')['total_subs'].sum()"
   ]
  }
 ],
 "metadata": {
  "kernelspec": {
   "display_name": "thesis",
   "language": "python",
   "name": "thesis"
  },
  "language_info": {
   "codemirror_mode": {
    "name": "ipython",
    "version": 3
   },
   "file_extension": ".py",
   "mimetype": "text/x-python",
   "name": "python",
   "nbconvert_exporter": "python",
   "pygments_lexer": "ipython3",
   "version": "3.10.9"
  }
 },
 "nbformat": 4,
 "nbformat_minor": 5
}
